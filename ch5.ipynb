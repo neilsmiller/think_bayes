{
 "metadata": {
  "language_info": {
   "codemirror_mode": {
    "name": "ipython",
    "version": 3
   },
   "file_extension": ".py",
   "mimetype": "text/x-python",
   "name": "python",
   "nbconvert_exporter": "python",
   "pygments_lexer": "ipython3",
   "version": 3
  },
  "orig_nbformat": 2
 },
 "nbformat": 4,
 "nbformat_minor": 2,
 "cells": [
  {
   "source": [
    "Exercises from chapter 5!\n",
    "\n",
    "**Exercise**: Suppose you are giving a talk in a large lecture hall and the fire marshal interrupts because they think the audience exceeds 1200 people, which is the safe capacity of the room.\n",
    "You think there are fewer than 1200 people, and you offer to prove it. It would take too long to count, so you try an experiment:\n",
    "* You ask how many people were born on May 11, and two people raise their hands.\n",
    "* You ask how many were born on May 23 and 1 person raises their hand.\n",
    "* Finally, you ask how many were born on August 1, and no one raises their hand.\n",
    "\n",
    "How many people are in the audience? What is the probability that there are more than 1200 people? Hint: remember the binomial distribution."
   ],
   "cell_type": "markdown",
   "metadata": {}
  },
  {
   "source": [
    "Intuition: if there are 1200 people, there'd be an average of 1200 / 365 = 3.3 people with each birthday, so it's not likely that there are 1200 people.\n",
    "Since the average is one person having a birthday on any given day (out of the three birthdays tested), there probably 700-800 people in the lecture hall."
   ],
   "cell_type": "markdown",
   "metadata": {}
  }
 ]
}